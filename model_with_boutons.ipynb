{
 "cells": [
  {
   "cell_type": "code",
   "execution_count": 1,
   "metadata": {},
   "outputs": [],
   "source": [
    "from neuron import h, gui"
   ]
  },
  {
   "cell_type": "code",
   "execution_count": 2,
   "metadata": {},
   "outputs": [],
   "source": [
    "## Cell parameters BUILD axon.hoc\n",
    "\n",
    "# Sections\n",
    "axNum = 15 #should not be odd number\n",
    "boutons = [h.Section(name=\"Bouton\") for i in range(axNum)]\n",
    "axons = [h.Section(name=\"Axon\") for i in range(axNum+1)]\n",
    "\n",
    "for bouton in boutons:\n",
    "    bouton.nseg=1\n",
    "    bouton.L=8\n",
    "    bouton.diam=8\n",
    "    bouton.cm=0.9\n",
    "    \n",
    "for axon in axons:\n",
    "    axon.nseg = 5\n",
    "    axon.L = 35          \n",
    "    axon.diam = 0.8      # 0.14\n",
    "    axon.cm = 0.9/10     # Capacity assuming 4.5 myelin sheets = 9 membranes + 1 axon membrane\n",
    "    \n",
    "axons[-1].nseg = 20    # last axon is longer\n",
    "axons[-1].L = 150\n",
    "\n",
    "# Connectivity\n",
    "for axon, bouton in zip(axons, boutons):\n",
    "    bouton.connect(axon)   # connect bouton 0-end to preceeding axon 1-end\n",
    "for bouton, axon in zip(boutons, axons[1:]):\n",
    "    axon.connect(bouton(1),0) # connect axon 0-end to preceeding bouton 1-end\n",
    "\n",
    "# Someting for all\n",
    "h.celsius = 37   \n",
    "for section in h.allsec():\n",
    "    section.Ra = 120     # TODO: There is also an h.global_ra, might use that instead"
   ]
  },
  {
   "cell_type": "code",
   "execution_count": 3,
   "metadata": {},
   "outputs": [
    {
     "name": "stdout",
     "output_type": "stream",
     "text": [
      "\n",
      "|-----|       Axon(0-1)\n",
      "       `|       Bouton(0-1)\n",
      "         `----|       Axon(0-1)\n",
      "               `|       Bouton(0-1)\n",
      "                 `----|       Axon(0-1)\n",
      "                       `|       Bouton(0-1)\n",
      "                         `----|       Axon(0-1)\n",
      "                               `|       Bouton(0-1)\n",
      "                                 `----|       Axon(0-1)\n",
      "                                       `|       Bouton(0-1)\n",
      "                                         `----|       Axon(0-1)\n",
      "                                               `|       Bouton(0-1)\n",
      "                                                 `----|       Axon(0-1)\n",
      "                                                       `|       Bouton(0-1)\n",
      "                                                         `----|       Axon(0-1)\n",
      "                                                               `|       Bouton(0-1)\n",
      "                                                                 `----|       Axon(0-1)\n",
      "                                                                       `|       Bouton(0-1)\n",
      "                                                                         `----|       Axon(0-1)\n",
      "                                                                               `|       Bouton(0-1)\n",
      "                                                                                 `----|       Axon(0-1)\n",
      "                                                                                       `|       Bouton(0-1)\n",
      "                                                                                         `----|       Axon(0-1)\n",
      "                                                                                               `|       Bouton(0-1)\n",
      "                                                                                                 `----|       Axon(0-1)\n",
      "                                                                                                       `|       Bouton(0-1)\n",
      "                                                                                                         `----|       Axon(0-1)\n",
      "                                                                                                               `|       Bouton(0-1)\n",
      "                                                                                                                 `----|       Axon(0-1)\n",
      "                                                                                                                       `|       Bouton(0-1)\n",
      "                                                                                                                         `-------------------|       Axon(0-1)\n",
      "\n"
     ]
    },
    {
     "data": {
      "text/plain": [
       "1.0"
      ]
     },
     "execution_count": 3,
     "metadata": {},
     "output_type": "execute_result"
    }
   ],
   "source": [
    "# Some special place\n",
    "middle_Bouton = boutons[axNum//2]\n",
    "\n",
    "# Checking topology\n",
    "s = h.Shape()\n",
    "s.show(False)\n",
    "s.color(2, sec=middle_Bouton)     # color middle_Bouton red\n",
    "h.topology()\n",
    "h.finitialize()"
   ]
  },
  {
   "cell_type": "code",
   "execution_count": null,
   "metadata": {},
   "outputs": [],
   "source": []
  },
  {
   "cell_type": "code",
   "execution_count": null,
   "metadata": {},
   "outputs": [],
   "source": []
  }
 ],
 "metadata": {
  "kernelspec": {
   "display_name": "Python 2",
   "language": "python",
   "name": "python2"
  },
  "language_info": {
   "codemirror_mode": {
    "name": "ipython",
    "version": 2
   },
   "file_extension": ".py",
   "mimetype": "text/x-python",
   "name": "python",
   "nbconvert_exporter": "python",
   "pygments_lexer": "ipython2",
   "version": "2.7.16"
  }
 },
 "nbformat": 4,
 "nbformat_minor": 2
}
