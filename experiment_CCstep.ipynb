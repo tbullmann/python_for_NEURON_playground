{
 "cells": [
  {
   "cell_type": "markdown",
   "metadata": {},
   "source": [
    "# Response to hyperpolarising square current injection"
   ]
  },
  {
   "cell_type": "code",
   "execution_count": 1,
   "metadata": {},
   "outputs": [],
   "source": [
    "import numpy as np\n",
    "from matplotlib import pyplot as plt"
   ]
  },
  {
   "cell_type": "code",
   "execution_count": 2,
   "metadata": {},
   "outputs": [],
   "source": [
    "%matplotlib inline\n",
    "plt.rcParams['figure.figsize'] = [10, 5]"
   ]
  },
  {
   "cell_type": "code",
   "execution_count": 3,
   "metadata": {},
   "outputs": [],
   "source": [
    "from neuron import h, gui, load_mechanisms   \n",
    "from nrnutils import Section, Mechanism      \n",
    "import Model"
   ]
  },
  {
   "cell_type": "code",
   "execution_count": 4,
   "metadata": {},
   "outputs": [
    {
     "data": {
      "text/plain": [
       "True"
      ]
     },
     "execution_count": 4,
     "metadata": {},
     "output_type": "execute_result"
    }
   ],
   "source": [
    "# It is not possible to consistently get the path of a Jupyter notebook. But this may work most of the time.\n",
    "# If not, paste the absolute path to the folder containing the mod files (not the compiled files)\n",
    "import os\n",
    "current_path = os.getcwd()\n",
    "load_mechanisms(os.path.join(current_path, \"mod\"))"
   ]
  },
  {
   "cell_type": "code",
   "execution_count": 5,
   "metadata": {},
   "outputs": [],
   "source": [
    "model = Model.without_ih()"
   ]
  },
  {
   "cell_type": "code",
   "execution_count": 6,
   "metadata": {},
   "outputs": [
    {
     "data": {
      "text/plain": [
       "0.0"
      ]
     },
     "execution_count": 6,
     "metadata": {},
     "output_type": "execute_result"
    }
   ],
   "source": [
    "# Some special place\n",
    "middle_Bouton = model.boutons[model.axNum//2]\n",
    "\n",
    "# Checking topology\n",
    "s = h.Shape()\n",
    "s.show(False)\n",
    "s.color(2, sec=middle_Bouton)     # color middle_Bouton red\n",
    "# h.topology()"
   ]
  },
  {
   "cell_type": "code",
   "execution_count": 7,
   "metadata": {},
   "outputs": [],
   "source": [
    "pre_interval = 1000.\n",
    "sim_interval = 1000."
   ]
  },
  {
   "cell_type": "code",
   "execution_count": 8,
   "metadata": {},
   "outputs": [],
   "source": [
    "stim = h.IClamp(middle_Bouton(0.5))\n",
    "stim.delay=pre_interval + 95    # stimulus delay in ms\n",
    "stim.dur=200                   # stimulus duration in ms\n",
    "stim.amp=-0.1                 # stimulus amplitude in nA"
   ]
  },
  {
   "cell_type": "code",
   "execution_count": 9,
   "metadata": {},
   "outputs": [
    {
     "data": {
      "text/plain": [
       "Vector[4]"
      ]
     },
     "execution_count": 9,
     "metadata": {},
     "output_type": "execute_result"
    }
   ],
   "source": [
    "# Record voltage and time\n",
    "v_vec = h.Vector()          # Membrane potential vector [mV]\n",
    "t_vec = h.Vector()          # Time stamp vector [ms]\n",
    "v_vec.record(middle_Bouton(0.5)._ref_v)\n",
    "t_vec.record(h._ref_t) "
   ]
  },
  {
   "cell_type": "code",
   "execution_count": 10,
   "metadata": {},
   "outputs": [
    {
     "data": {
      "text/plain": [
       "Vector[4]"
      ]
     },
     "execution_count": 10,
     "metadata": {},
     "output_type": "execute_result"
    }
   ],
   "source": [
    "h.tstop = pre_interval + sim_interval\n",
    "h.run()\n",
    "t_vec.add(-pre_interval) # Discard the first 1000ms to equilibrate the membrane potential"
   ]
  },
  {
   "cell_type": "code",
   "execution_count": 11,
   "metadata": {},
   "outputs": [
    {
     "data": {
      "image/png": "[encoded data removed]",
      "text/plain": [
       "<Figure size 720x360 with 1 Axes>"
      ]
     },
     "metadata": {
      "needs_background": "light"
     },
     "output_type": "display_data"
    }
   ],
   "source": [
    "fig = plt.figure() \n",
    "\n",
    "plt.xlabel('time (ms)')\n",
    "plt.ylabel('mV')\n",
    "plt.plot(t_vec, v_vec, color='black')\n",
    "\n",
    "\n",
    "plt.xlim((0,sim_interval))   \n",
    "\n",
    "plt.show()\n"
   ]
  },
  {
   "cell_type": "code",
   "execution_count": null,
   "metadata": {},
   "outputs": [],
   "source": []
  },
  {
   "cell_type": "code",
   "execution_count": null,
   "metadata": {},
   "outputs": [],
   "source": []
  }
 ],
 "metadata": {
  "kernelspec": {
   "display_name": "Python 2",
   "language": "python",
   "name": "python2"
  },
  "language_info": {
   "codemirror_mode": {
    "name": "ipython",
    "version": 2
   },
   "file_extension": ".py",
   "mimetype": "text/x-python",
   "name": "python",
   "nbconvert_exporter": "python",
   "pygments_lexer": "ipython2",
   "version": "2.7.16"
  }
 },
 "nbformat": 4,
 "nbformat_minor": 2
}
