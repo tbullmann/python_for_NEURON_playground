{
 "cells": [
  {
   "cell_type": "code",
   "execution_count": 1,
   "metadata": {},
   "outputs": [],
   "source": [
    "from neuron import h, gui, load_mechanisms\n",
    "from nrnutils import Section, Mechanism\n",
    "import numpy as np"
   ]
  },
  {
   "cell_type": "code",
   "execution_count": 2,
   "metadata": {},
   "outputs": [
    {
     "data": {
      "text/plain": [
       "True"
      ]
     },
     "execution_count": 2,
     "metadata": {},
     "output_type": "execute_result"
    }
   ],
   "source": [
    "# It is not possible to consistently get the path of a Jupyter notebook. But this may work most of the time.\n",
    "# If not, paste the absolute path to the folder containing the mod files (not the compiled files)\n",
    "import os\n",
    "current_path = os.getcwd()\n",
    "load_mechanisms(os.path.join(current_path, \"mod\"))"
   ]
  },
  {
   "cell_type": "code",
   "execution_count": 3,
   "metadata": {},
   "outputs": [],
   "source": [
    "# Parameters \n",
    "\n",
    "myena = 55\n",
    "myek = -97\n",
    "\n",
    "nax_bouton = 1000 \n",
    "nax_axon = 0\n",
    "\n",
    "Kv1_bouton = 2000 \n",
    "Kv1_axon = 0\n",
    "\n",
    "leakK_bouton = 0.18 #.08\n",
    "leakK_axon = leakK_bouton/10\n",
    "\n",
    "leakNa_bouton = leakK_bouton/13\n",
    "leakNa_axon = leakNa_bouton/10\n",
    "\n",
    "\n",
    "\n",
    "#ih_bouton = 0.00003\n",
    "#ih_axon = ih_bouton/10\n",
    "#ih_e = -23\n",
    "#ih_k_na_ratio = (myena-ih_e)/(myena-myek)\n",
    "\n",
    "#charge_start = 1000\n",
    "#charge_end = 1030\n",
    "\n",
    "#vShift_Kv1 = 25\n",
    "#vShift_inact_Kv1 = -15\n",
    "#speed_Kv1 = 2.3\n",
    "#vShift_nax = 20         # Global variable accessible with h.vShift_nax\n",
    "#vShift_inact_nax = 10    # Local variable accessible with some_segment(0.5).vShift_inact_local\n",
    "#q10_nax = 4\n",
    "#q10h_nax = 4\n",
    "        \n"
   ]
  },
  {
   "cell_type": "code",
   "execution_count": 4,
   "metadata": {},
   "outputs": [],
   "source": [
    "class AxonWithBoutons(object):\n",
    "        \n",
    "    def __init__(self, axNum=15, axon_mechanisms=list(), bouton_mechanisms=list(), add_charge=True):\n",
    "        \n",
    "        self.axNum = axNum\n",
    "        \n",
    "        #See comment below on measuring the total ion currents\n",
    "        #if add_charge:\n",
    "        #    axon_mechanisms.append(Mechanism(\"charge_\", tmin=charge_start, tmax=charge_end))   \n",
    "        #    bouton_mechanisms.append(Mechanism(\"charge_\", tmin=charge_start, tmax=charge_end))   \n",
    "        \n",
    "        # Define axon\n",
    "        self.axons = [Section(nseg = 5 if i < axNum else 20, \n",
    "                              L = 35 if i < axNum else 150, \n",
    "                              diam = 0.8, \n",
    "                              cm = 0.9/10,\n",
    "                              mechanisms=axon_mechanisms)\n",
    "                 for i in range(axNum+1)]\n",
    "        \n",
    "        self.boutons = [Section(nseg=1,\n",
    "                                L=8,\n",
    "                                diam=8,\n",
    "                                cm=0.9,\n",
    "                                mechanisms=bouton_mechanisms)\n",
    "                 for i in range(axNum)]\n",
    "\n",
    "        # Connectivity\n",
    "        for axon, bouton in zip(self.axons, self.boutons):\n",
    "            bouton.connect(axon)   # connect bouton 0-end to preceeding axon 1-end\n",
    "        for bouton, axon in zip(self.boutons, self.axons[1:]):\n",
    "            axon.connect(bouton(1),0) # connect axon 0-end to preceeding bouton 1-end\n",
    "\n",
    "        # Someting for all\n",
    "        h.celsius = 37   \n",
    "        for section in h.allsec():\n",
    "            section.Ra = 120     # TODO: There is also an h.global_ra, might use that instead\n",
    "            section.ena = myena\n",
    "            section.ek = myek\n"
   ]
  },
  {
   "cell_type": "code",
   "execution_count": 5,
   "metadata": {},
   "outputs": [],
   "source": [
    "model = AxonWithBoutons(axon_mechanisms  =[Mechanism('nax', gbar = nax_axon),\n",
    "                                                      Mechanism('Kv1', gbar = Kv1_axon),\n",
    "                                                      Mechanism('leakNa', g = leakNa_axon),\n",
    "                                                      Mechanism('leakK', g = leakK_axon),],\n",
    "                                   bouton_mechanisms=[Mechanism('nax', gbar = nax_bouton),\n",
    "                                                      Mechanism('Kv1', gbar = Kv1_bouton),\n",
    "                                                      Mechanism('leakNa', g = leakNa_bouton),\n",
    "                                                      Mechanism('leakK', g = leakK_bouton),]\n",
    "                                  )\n",
    "\n"
   ]
  },
  {
   "cell_type": "code",
   "execution_count": 6,
   "metadata": {},
   "outputs": [
    {
     "data": {
      "text/plain": [
       "0.0"
      ]
     },
     "execution_count": 6,
     "metadata": {},
     "output_type": "execute_result"
    }
   ],
   "source": [
    "# Some special place\n",
    "first_Bouton = model.boutons[0]\n",
    "middle_Bouton = model.boutons[model.axNum//2]\n",
    "\n",
    "# Checking topology\n",
    "s = h.Shape()\n",
    "s.show(False)\n",
    "s.color(2, sec=middle_Bouton)     # color middle_Bouton red\n",
    "s.color(3, sec=first_Bouton)     # color first_Bouton blue\n",
    "# h.topology()"
   ]
  },
  {
   "cell_type": "markdown",
   "metadata": {},
   "source": [
    "![Shape](shape.jpg)"
   ]
  },
  {
   "cell_type": "code",
   "execution_count": 7,
   "metadata": {},
   "outputs": [],
   "source": [
    "stim = h.IClamp(first_Bouton(0.5))\n",
    "stim.delay=11    # stimulus delay in ms\n",
    "stim.dur=0.5      # stimulus duration in ms\n",
    "stim.amp=200     # stimulus amplitude in nA"
   ]
  },
  {
   "cell_type": "code",
   "execution_count": 8,
   "metadata": {},
   "outputs": [
    {
     "data": {
      "text/plain": [
       "Vector[4]"
      ]
     },
     "execution_count": 8,
     "metadata": {},
     "output_type": "execute_result"
    }
   ],
   "source": [
    "# Record voltage and time\n",
    "v_vec = h.Vector()          # Membrane potential vector [mV]\n",
    "t_vec = h.Vector()          # Time stamp vector [ms]\n",
    "v_vec.record(middle_Bouton(0.5)._ref_v)\n",
    "t_vec.record(h._ref_t) "
   ]
  },
  {
   "cell_type": "markdown",
   "metadata": {},
   "source": [
    "**Note on how to record the total sodium and potassium current**\n",
    "\n",
    "https://www.neuron.yale.edu/phpBB/viewtopic.php?t=3844\n",
    "\n",
    "**Question**: To get the sum of all the ion currents I_ion, can I just record 'segment._ref_ina' and 'segment._ref_ik', multiply them with area, and add them together? Are there other ways to directly get the sum of total ion currents?\n",
    "\n",
    "**Ted**: Nope, that's the only way. Don't forget to include i_pas and ileak_hh. But you're not going to include pas, so just remember to add ileak_hh"
   ]
  },
  {
   "cell_type": "code",
   "execution_count": 9,
   "metadata": {},
   "outputs": [
    {
     "data": {
      "text/plain": [
       "Vector[6]"
      ]
     },
     "execution_count": 9,
     "metadata": {},
     "output_type": "execute_result"
    }
   ],
   "source": [
    "# Record total sodium and potassium current densities at the middle boutonn\n",
    "ina_vec = h.Vector()        # sodium current density vector [mA/cm ]\n",
    "ik_vec = h.Vector()         # potassium current density vector [mA/cm2]\n",
    "ina_vec.record(middle_Bouton(0.5)._ref_ina)   \n",
    "ik_vec.record(middle_Bouton(0.5)._ref_ik)      "
   ]
  },
  {
   "cell_type": "code",
   "execution_count": 10,
   "metadata": {},
   "outputs": [
    {
     "data": {
      "text/plain": [
       "0.0"
      ]
     },
     "execution_count": 10,
     "metadata": {},
     "output_type": "execute_result"
    }
   ],
   "source": [
    "h.tstop = 20.0\n",
    "h.run()"
   ]
  },
  {
   "cell_type": "code",
   "execution_count": 11,
   "metadata": {},
   "outputs": [
    {
     "data": {
      "text/plain": [
       "<Figure size 720x360 with 0 Axes>"
      ]
     },
     "metadata": {},
     "output_type": "display_data"
    },
    {
     "data": {
      "image/png": "[encoded data removed]",
      "text/plain": [
       "<Figure size 720x360 with 2 Axes>"
      ]
     },
     "metadata": {
      "needs_background": "light"
     },
     "output_type": "display_data"
    }
   ],
   "source": [
    "from matplotlib import pyplot as plt\n",
    "%matplotlib inline\n",
    "plt.rcParams['figure.figsize'] = [10, 5]\n",
    "\n",
    "\n",
    "plt.figure() \n",
    "\n",
    "\n",
    "fig, ax1 = plt.subplots()\n",
    "\n",
    "color = 'blue'\n",
    "ax1.set_xlabel('time (ms)')\n",
    "ax1.set_ylabel('mV', color=color)\n",
    "ax1.plot(t_vec, v_vec, color=color)\n",
    "ax1.tick_params(axis='y', labelcolor=color)\n",
    "\n",
    "ax2 = ax1.twinx()  # instantiate a second axes that shares the same x-axis\n",
    "\n",
    "color = 'black'\n",
    "ax2.set_ylabel('mA/cm2', color=color)  # we already handled the x-label with ax1\n",
    "ax2.plot(t_vec, ina_vec, color='red', label='I_Na+')\n",
    "ax2.plot(t_vec, ik_vec, color='green', label='I_K+')\n",
    "ax2.tick_params(axis='y', labelcolor=color)\n",
    "\n",
    "ax2.set_xlim((10,20))   # Discard the first 10s to equilibrate the membrane potential\n",
    "\n",
    "fig.tight_layout()  # otherwise the right y-label is slightly clipped\n",
    "fig.legend(loc=4)\n",
    "plt.show()\n"
   ]
  },
  {
   "cell_type": "code",
   "execution_count": 12,
   "metadata": {},
   "outputs": [
    {
     "name": "stdout",
     "output_type": "stream",
     "text": [
      "time step size =  0.025 ms\n",
      "for one (middle) bouton:\n",
      "   area =  201.06192983 um2\n",
      "   maximum sodium current =  -5.17128358621 nA (for sanity check)\n",
      "   total sodium charge = 0.7792408272617088 pC\n",
      "   number of ATP per AP =  1621212\n"
     ]
    }
   ],
   "source": [
    "# Calculate \n",
    "print 'time step size = ', h.dt, 'ms'\n",
    "print 'for one (middle) bouton:'\n",
    "middle_Bouton_area = middle_Bouton(0.5).area()   \n",
    "print '   area = ', middle_Bouton_area, 'um2'\n",
    "\n",
    "\n",
    "I_Na = ina_vec.mul(middle_Bouton_area)   # mA/cm2*um2  = 10^-3 A * 10^+4 * 1^-12 = 10^-11 A\n",
    "I_Na.mul(0.01)                           # now we have 10^-11 A / 10^-2 = 10^-9 A = nA\n",
    "\n",
    "print '   maximum sodium current = ', I_Na.min(), 'nA (for sanity check)'\n",
    "\n",
    "# Integrate sodium current\n",
    "na_charge = - np.trapz(I_Na, dx=h.dt)   # TODO Integrate only over the action potential\n",
    "\n",
    "print '   total sodium charge =', na_charge, 'pC' # nA * ms = 10-12 As = 10-12 Coulomb = pC')\n",
    "\n",
    "factor = 1e-12 * 6.2415090744e18 * 1/3\n",
    "# pico * number of electrons / coloumb * 1 ATP for pumping 3 Na+\n",
    "\n",
    "print '   number of ATP per AP = ',  int(factor*na_charge)"
   ]
  },
  {
   "cell_type": "code",
   "execution_count": null,
   "metadata": {},
   "outputs": [],
   "source": []
  },
  {
   "cell_type": "code",
   "execution_count": null,
   "metadata": {},
   "outputs": [],
   "source": []
  }
 ],
 "metadata": {
  "kernelspec": {
   "display_name": "Python 2",
   "language": "python",
   "name": "python2"
  },
  "language_info": {
   "codemirror_mode": {
    "name": "ipython",
    "version": 2
   },
   "file_extension": ".py",
   "mimetype": "text/x-python",
   "name": "python",
   "nbconvert_exporter": "python",
   "pygments_lexer": "ipython2",
   "version": "2.7.16"
  }
 },
 "nbformat": 4,
 "nbformat_minor": 2
}
