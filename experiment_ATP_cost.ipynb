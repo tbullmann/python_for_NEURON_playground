{
 "cells": [
  {
   "cell_type": "markdown",
   "metadata": {},
   "source": [
    "# ATP cost"
   ]
  },
  {
   "cell_type": "code",
   "execution_count": 1,
   "metadata": {},
   "outputs": [],
   "source": [
    "import numpy as np\n",
    "from matplotlib import pyplot as plt"
   ]
  },
  {
   "cell_type": "code",
   "execution_count": 2,
   "metadata": {},
   "outputs": [],
   "source": [
    "%matplotlib inline\n",
    "plt.rcParams['figure.figsize'] = [10, 5]"
   ]
  },
  {
   "cell_type": "code",
   "execution_count": 3,
   "metadata": {},
   "outputs": [],
   "source": [
    "from neuron import h, gui\n",
    "import Model"
   ]
  },
  {
   "cell_type": "code",
   "execution_count": 4,
   "metadata": {},
   "outputs": [],
   "source": [
    "model = Model.without_ih()"
   ]
  },
  {
   "cell_type": "code",
   "execution_count": 5,
   "metadata": {},
   "outputs": [
    {
     "data": {
      "text/plain": [
       "0.0"
      ]
     },
     "execution_count": 5,
     "metadata": {},
     "output_type": "execute_result"
    }
   ],
   "source": [
    "# Some special place\n",
    "first_Bouton = model.boutons[0]\n",
    "middle_Bouton = model.boutons[model.axNum//2]\n",
    "middle_Axon = model.axons[model.axNum//2]\n",
    "\n",
    "# Checking topology\n",
    "s = h.Shape()\n",
    "s.show(False)\n",
    "s.color(2, sec=middle_Bouton)     # color middle bouton red\n",
    "s.color(2, sec=middle_Axon)     # color middle axon red\n",
    "s.color(3, sec=first_Bouton)     # color first_Bouton blue\n",
    "# h.topology()"
   ]
  },
  {
   "cell_type": "code",
   "execution_count": 6,
   "metadata": {},
   "outputs": [],
   "source": [
    "pre_interval = 1000.\n",
    "sim_interval = 10."
   ]
  },
  {
   "cell_type": "code",
   "execution_count": 7,
   "metadata": {},
   "outputs": [],
   "source": [
    "stim = h.IClamp(first_Bouton(0.5))\n",
    "stim.delay=pre_interval + 5    # stimulus delay in ms\n",
    "stim.dur=0.5                   # stimulus duration in ms\n",
    "stim.amp=200                   # stimulus amplitude in nA"
   ]
  },
  {
   "cell_type": "code",
   "execution_count": 8,
   "metadata": {},
   "outputs": [
    {
     "data": {
      "text/plain": [
       "Vector[4]"
      ]
     },
     "execution_count": 8,
     "metadata": {},
     "output_type": "execute_result"
    }
   ],
   "source": [
    "# Record voltage and time\n",
    "v = h.Vector()          # Membrane potential vector [mV]\n",
    "t = h.Vector()          # Time stamp vector [ms]\n",
    "v.record(middle_Bouton(0.5)._ref_v)\n",
    "t.record(h._ref_t) "
   ]
  },
  {
   "cell_type": "markdown",
   "metadata": {},
   "source": [
    "**Note on how to record the total sodium and potassium current**\n",
    "\n",
    "https://www.neuron.yale.edu/phpBB/viewtopic.php?t=3844\n",
    "\n",
    "**Question**: To get the sum of all the ion currents I_ion, can I just record 'segment._ref_ina' and 'segment._ref_ik', multiply them with area, and add them together? Are there other ways to directly get the sum of total ion currents?\n",
    "\n",
    "**Ted**: Nope, that's the only way. Don't forget to include i_pas and ileak_hh. But you're not going to include pas, so just remember to add ileak_hh"
   ]
  },
  {
   "cell_type": "code",
   "execution_count": 9,
   "metadata": {},
   "outputs": [
    {
     "data": {
      "text/plain": [
       "Vector[6]"
      ]
     },
     "execution_count": 9,
     "metadata": {},
     "output_type": "execute_result"
    }
   ],
   "source": [
    "# Record total sodium and potassium current densities at the middle bouton\n",
    "ina = h.Vector()        # sodium current density vector [mA/cm ]\n",
    "ik = h.Vector()         # potassium current density vector [mA/cm2]\n",
    "ina.record(middle_Bouton(0.5)._ref_ina)   \n",
    "ik.record(middle_Bouton(0.5)._ref_ik)      "
   ]
  },
  {
   "cell_type": "code",
   "execution_count": 10,
   "metadata": {},
   "outputs": [
    {
     "data": {
      "text/plain": [
       "Vector[7]"
      ]
     },
     "execution_count": 10,
     "metadata": {},
     "output_type": "execute_result"
    }
   ],
   "source": [
    "# Record total sodium current density at the middle axon\n",
    "ina_axon = h.Vector()        # sodium current density vector [mA/cm ]\n",
    "ina_axon.record(middle_Axon(0.5)._ref_ina)   "
   ]
  },
  {
   "cell_type": "code",
   "execution_count": 11,
   "metadata": {},
   "outputs": [
    {
     "name": "stdout",
     "output_type": "stream",
     "text": [
      "Changed dt\n"
     ]
    },
    {
     "data": {
      "text/plain": [
       "Vector[4]"
      ]
     },
     "execution_count": 11,
     "metadata": {},
     "output_type": "execute_result"
    }
   ],
   "source": [
    "h.tstop = pre_interval + sim_interval\n",
    "h.dt = 0.01 #ms\n",
    "h.run()\n",
    "t.add(-pre_interval) # Discard the first 1000ms to equilibrate the membrane potential"
   ]
  },
  {
   "cell_type": "code",
   "execution_count": 12,
   "metadata": {},
   "outputs": [
    {
     "data": {
      "text/plain": [
       "<Figure size 720x360 with 0 Axes>"
      ]
     },
     "metadata": {},
     "output_type": "display_data"
    },
    {
     "data": {
      "image/png": "[encoded data removed]",
      "text/plain": [
       "<Figure size 720x360 with 2 Axes>"
      ]
     },
     "metadata": {
      "needs_background": "light"
     },
     "output_type": "display_data"
    }
   ],
   "source": [
    "plt.figure() \n",
    "\n",
    "fig, ax1 = plt.subplots()\n",
    "\n",
    "color = 'blue'\n",
    "ax1.set_xlabel('time (ms)')\n",
    "ax1.set_ylabel('mV', color=color)\n",
    "ax1.plot(t, v, color=color)\n",
    "ax1.tick_params(axis='y', labelcolor=color)\n",
    "\n",
    "ax2 = ax1.twinx()  # instantiate a second axes that shares the same x-axis\n",
    "\n",
    "color = 'black'\n",
    "ax2.set_ylabel('mA/cm2', color=color)  # we already handled the x-label with ax1\n",
    "ax2.plot(t, ina, color='red', label='I_Na+')\n",
    "ax2.plot(t, ik, color='green', label='I_K+')\n",
    "ax2.tick_params(axis='y', labelcolor=color)\n",
    "\n",
    "ax2.set_xlim((4,7))\n",
    "#ax2.set_xlim((0,sim_interval))   \n",
    "fig.tight_layout()  # otherwise the right y-label is slightly clipped\n",
    "fig.legend(loc=4)\n",
    "plt.show()\n"
   ]
  },
  {
   "cell_type": "code",
   "execution_count": 13,
   "metadata": {},
   "outputs": [],
   "source": [
    "def integrate_ina_atp (ina, t, tmin=5, tmax=10):\n",
    "\n",
    "    # index for time interval\n",
    "    index = np.logical_and(np_t >= tmin, np_t < tmax)   \n",
    "    \n",
    "    # Integrate sodium current\n",
    "    na_charge = - np.trapz(np_ina[index], dx=h.dt)         # nA * ms = 10-12 As = 10-12 Coulomb = pC')\n",
    "    \n",
    "    # pico * number of electrons / coloumb * 1 ATP for pumping 3 Na+\n",
    "    factor = 1e-12 * 6.2415090744e18 * 1/3   \n",
    "    n_atp = int(factor*na_charge)   \n",
    "    \n",
    "    return na_charge, n_atp, tmax-tmin     "
   ]
  },
  {
   "cell_type": "code",
   "execution_count": 14,
   "metadata": {},
   "outputs": [
    {
     "name": "stdout",
     "output_type": "stream",
     "text": [
      "time step size =  0.0125 ms\n",
      "for one (middle) bouton:\n",
      "   area =  201.06192983 um2\n",
      "   maximum sodium current =  -5.1306484405 nA (for sanity check)\n",
      "for one (middle) axon:\n",
      "   area =  17.5929191223 um2\n",
      "   maximum sodium current =  -3.57401106725e-06 nA (for sanity check)\n"
     ]
    }
   ],
   "source": [
    "# Calculate for Bouton\n",
    "print 'time step size = ', h.dt, 'ms'\n",
    "print 'for one (middle) bouton:'\n",
    "middle_Bouton_area = middle_Bouton(0.5).area()   \n",
    "print '   area = ', middle_Bouton_area, 'um2'\n",
    "\n",
    "ina.mul(middle_Bouton_area)   # mA/cm2*um2  = 10^-3 A * 10^+4 * 1^-12 = 10^-11 A\n",
    "ina.mul(0.01)                 # now we have 10^-11 A / 10^-2 = 10^-9 A = nA\n",
    "\n",
    "print '   maximum sodium current = ', ina.min(), 'nA (for sanity check)'\n",
    "\n",
    "# Calculate for Axon\n",
    "print 'for one (middle) axon:'\n",
    "middle_Axon_area = middle_Axon(0.5).area()   \n",
    "print '   area = ', middle_Axon_area, 'um2'\n",
    "\n",
    "ina_axon.mul(middle_Axon_area)   # mA/cm2*um2  = 10^-3 A * 10^+4 * 1^-12 = 10^-11 A\n",
    "ina_axon.mul(0.01)               # now we have 10^-11 A / 10^-2 = 10^-9 A = nA\n",
    "\n",
    "print '   maximum sodium current = ', ina_axon.min(), 'nA (for sanity check)'\n",
    "\n",
    "# Add 1 axon piece and 1 bouton, and save in numpy array for integration\n",
    "np_ina = np.array(ina) + np.array(ina_axon)\n",
    "np_t = np.array(t)"
   ]
  },
  {
   "cell_type": "code",
   "execution_count": 15,
   "metadata": {},
   "outputs": [
    {
     "name": "stdout",
     "output_type": "stream",
     "text": [
      "before action potential:\n",
      "   total sodium charge = 0.002016919956339247 pC\n",
      "   number of ATP per AP =  4196\n",
      "   period =  5 ms\n",
      "during action potential:\n",
      "   total sodium charge = 0.47761560282136833 pC\n",
      "   number of ATP per AP =  993680\n",
      "   period =  5 ms\n"
     ]
    }
   ],
   "source": [
    "print 'before action potential:'\n",
    "na_charge, n_atp, period = integrate_ina_atp(np_ina, np_t, tmin=0, tmax=5)    \n",
    "print '   total sodium charge =', na_charge, 'pC' \n",
    "print '   number of ATP per AP = ',  n_atp\n",
    "print '   period = ', period, 'ms'\n",
    "\n",
    "print 'during action potential:'\n",
    "na_charge, n_atp, period = integrate_ina_atp(np_ina, np_t, tmin=5, tmax=10)    \n",
    "print '   total sodium charge =', na_charge, 'pC' \n",
    "print '   number of ATP per AP = ',  n_atp\n",
    "print '   period = ', period, 'ms'\n",
    "\n"
   ]
  },
  {
   "cell_type": "code",
   "execution_count": 16,
   "metadata": {},
   "outputs": [
    {
     "name": "stdout",
     "output_type": "stream",
     "text": [
      "combiend length =  43.0 um\n"
     ]
    }
   ],
   "source": [
    "print 'combiend length = ', middle_Axon.L + middle_Bouton.L, 'um'"
   ]
  },
  {
   "cell_type": "code",
   "execution_count": null,
   "metadata": {},
   "outputs": [],
   "source": []
  }
 ],
 "metadata": {
  "kernelspec": {
   "display_name": "Python 2",
   "language": "python",
   "name": "python2"
  },
  "language_info": {
   "codemirror_mode": {
    "name": "ipython",
    "version": 2
   },
   "file_extension": ".py",
   "mimetype": "text/x-python",
   "name": "python",
   "nbconvert_exporter": "python",
   "pygments_lexer": "ipython2",
   "version": "2.7.16"
  }
 },
 "nbformat": 4,
 "nbformat_minor": 2
}
