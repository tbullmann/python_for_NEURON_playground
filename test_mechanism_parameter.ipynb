{
 "cells": [
  {
   "cell_type": "code",
   "execution_count": 1,
   "metadata": {},
   "outputs": [],
   "source": [
    "from neuron import h, gui, load_mechanisms"
   ]
  },
  {
   "cell_type": "code",
   "execution_count": 2,
   "metadata": {},
   "outputs": [
    {
     "data": {
      "text/plain": [
       "True"
      ]
     },
     "execution_count": 2,
     "metadata": {},
     "output_type": "execute_result"
    }
   ],
   "source": [
    "import os\n",
    "current_path = os.getcwd()\n",
    "load_mechanisms(os.path.join(current_path, \"mod/\"))"
   ]
  },
  {
   "cell_type": "code",
   "execution_count": 3,
   "metadata": {},
   "outputs": [
    {
     "data": {
      "text/plain": [
       "soma"
      ]
     },
     "execution_count": 3,
     "metadata": {},
     "output_type": "execute_result"
    }
   ],
   "source": [
    "soma = h.Section(name='soma')\n",
    "soma.insert('nax')"
   ]
  },
  {
   "cell_type": "code",
   "execution_count": 4,
   "metadata": {},
   "outputs": [
    {
     "name": "stdout",
     "output_type": "stream",
     "text": [
      "['nseg', 'L', 'rallbranch', 'Ra']\n"
     ]
    }
   ],
   "source": [
    "print(soma.__dict__.keys())\n"
   ]
  },
  {
   "cell_type": "code",
   "execution_count": null,
   "metadata": {},
   "outputs": [],
   "source": []
  },
  {
   "cell_type": "code",
   "execution_count": 5,
   "metadata": {},
   "outputs": [
    {
     "name": "stdout",
     "output_type": "stream",
     "text": [
      "0.0\n"
     ]
    }
   ],
   "source": [
    "print(soma(0.5).nax.vShift_inact_local)"
   ]
  },
  {
   "cell_type": "code",
   "execution_count": 6,
   "metadata": {},
   "outputs": [
    {
     "name": "stdout",
     "output_type": "stream",
     "text": [
      "['rates_hh', 'PointProcessLocator', 'iterator', 'morphology', 'IntFire4', 'vectormenu', 'IntFire1', 'IntFire2', 'ghdbar_ih', 'KSGate', 'na_ch_before_peak_charge_', 'graph', 'Inserter', 'setdata_Kv1', 'boolean_dialog', 'init', 'taueps_IntFire4', 'variable_domain', 'k_na_ratio_ih_cAMP', 'AtolToolItem', 'n3d', 'fittingmenu', 'g_leakNa', 'beta_ih_cAMP', 'pt3dchange', 'batch_save', 'pt3dclear', 'load_file', 'push_section', 'PWManager', 'b2_0_nax', 'allsec', 'OClamp', 'install_vector_fitness', 'toolmenu', 'rates_nax', 'nrn_load_dll', 'helpmenu', 'a3_0_nax', 'peak_lowest_charge_', 'graphList', 'GAMMA', 'xbutton', 'dina_dv_', 'load_func', 'access', 'abs', 'run', 'na_ch_excess_ratio_charge_', 'new', 'public', 'float_epsilon', 'newvectorplot', 'KSChan', 'xvalue', 'steprun', 'gk_hh', 'this_node', 'WindowMenu', 'g_leakK', 'running_', 'keep_nseg_parm', 'tStart_charge_', 'tmax_charge_', 'Matrix', 'batch_run', 'leakK', 'hinf_hh', 'maxrate_nax', 'hoc_cross_x_', 'el_hh', 'printf', 'tobj', 'tEnd_charge_', 'n_graph_lists', 'vShift_inact_Kv1', 'plot', 'h1inf_Kv1', 'runbutton', 'e_extracellular', 'lambda_f', 'GUIMath', 'hoc_obj_', 'ion_style', 'RangeVarPlot', 'bh_1_nax', 'eventcount', 'newcommand', 'impedancemenu', 'endtemplate', 'tempobj2', 'h3inf_Kv1', 'rallbranch', 'htau_hh', 'chdir', 'xpanel', 'unix_mac_pc', 'Family', 'ih', 'cas', 'gkbar_hh', 'WindowGroup', 'object_push', 'prmat', 'erf', 'prstim', 'gbar_nax', 'v', 'parent_node', 'make_pointprocess', 'xstatebutton', 'fastflushPlot', 'n_Kv1', 'setdata_pas', 'b2_1_nax', 'xfixedvalue', 'gnabar_hh', 'allobjectvars', 'SingleChan', 'coredump_on_error', 'ena', 'PtrVector', 'use_mcell_ran4', 'vShift_inact_local_nax', 'WindowGroupItem', 'default_dll_loaded_', 'h1betafkt_Kv1', 'celsius_panel', 'axis', 'sin', 'atan', 'SymChooser', 'List', 'addplot', 'parallel', 'il_hh', 'graphmode', 'fscan', 'nernst', 'neuronhome', 'screen_update', 'ah_0_nax', 'atan2', 'clipboard_save', 'ib_IntFire4', 'gkv1_Kv1', 'ghk', 'ah_2_nax', 'fsyn', 'help', 'symbols', 'Ra', 'clipboard_get', 'finitialize', 'disconnect', 'i_pas', 'node_data', 'newPlotV', 'lw', 'psection', 'FARADAY', 'newphaseplane', 'nrnmainmenu', 'return', 'L', 'pt3dadd', 'break', 'depvar', 'execute1', 'execute', 'global_ra', 'prjnrn', 'b3_1_nax', 'diam3d', 'peak_reached_charge_', 'begintemplate', 'e_pas', 'debug', 'h_hh', 'em', 'Plot', 'ek', 'celsius', 'objectvar', 'iterator_statement', 'PointProcessManager', 'connect', 'fit_praxis', 'realtime', 'vmin_charge_', 'makeppm', 'NumericalMethodPanel', 'print', 'tmin_charge_', 'ref', 'ri', 'runStopAt', 'clipboard_file', 'distmechviewers', 'bh_0_nax', 'getcwd', 'PPShape', 'windowmenu', 'g_pas', 'c3_nax', 'setdt', 'rtstart', 'advance', 'xraxial', 'KSTrans', 'flushPlot', 'MenuExplore', 'uninsert', 'Shape', 'erfc', 'cvode', 'startsw', 'i1_nax', 'i2_nax', 'setdata_ih_cAMP', 'xc', 'xcheckbox', 'xg', 'screen_update_invl', 'classname', 'nrncontrolmenu', 'gbar_Kv1', 'h2tau_Kv1', 'arc3d', 'system', 'FInitializeHandler', 'ivoc_style', 'checkpoint', 'continue_dialog', 'eqn', 'mcell_ran4', 'numarg', 'vmax_charge_', 'R', 'eqinit', 'distance', 'define_shape', 'double', 'clamp_resist', 'valid_name_syntax', 'i', 'xlabel', 'parent_connection', 'movie_frame_dur_', 'ah_1_nax', 'tempstr1', 'show_errmess_always', 'tempstr2', 'ko0_k_ion', 'pt3dremove', 'pop_section', 'setpointer', 'diam_changed', 'tstop_changed', 'pwman_place', 'ParallelContext', 'xred', 'nrnpython', 'object_id', 'z3d', 'pyobj', 'hoc_sf_', 'a3_1_nax', 'pointmenu', 'xmenu', 'speed_Kv1', 'secname', 'leakNa', 'doNotify', 'fmenu', 'nrnmainmenu_', 'diam', 'vShift_nax', 'hoc_cross_y_', 'delete_section', 'stdrun_quiet', 'graphmenu', 'execerror', 'makeinserter', 'ki', 'ko', 'exp', 'string_dialog', 'SEClamp', 'beta_ih', 'b3_0_nax', 'temp_string2_', 'setdata_charge_', 'attr_praxis', 'pval_praxis', 'APCount', 'h2alphafkt_Kv1', 'section_orientation', 'ih_cAMP', 'localobj', 'y3d', 'na_ch_charge_', 'clipboard_retrieve', 'newPlot', 'fcurrent', 'File', 'local', 'extracellular', 'ninf_hh', 'fmatrix', 'fprint', 'stop', 'TextEditor', 'numericalmethodpanel', 'nrnglobalmechmenu', 'dt', 'b1_1_nax', 'StateTransitionEvent', 'i4_nax', 'StringFunctions', 'PHI', 'setdata_ih', 'Deck', 'Random', 'nai0_na_ion', 'movie_timer', 'minf_hh', 'ismembrane', 'object_pushed', 'clipboard_set', 'PythonObject', 'cbimportmenu', 'WindowGroupManager', 'alpha_ih', 'ion_register', 'rates_Kv1', 'pt3dconst', 'ki0_k_ion', 'setdata_nax', 'b1_0_nax', 'AtolTool', 'graphItem', 'frecord_init', 'nrnsecmenu', 'ikv1_Kv1', 'NEURONMainMenu', 'stopsw', 'usetable_hh', 'hoc_stdout', 'ion_charge', 'buildmenu', 'PI', 'issection', 'nseg', 'Vector', 'dik_dv_', 'k_na_ratio_ih', 'getSpineArea', 'topology', 'cos', 'movierun', 'nrn_netrec_state_adjust', 'n_hh', 'object_index', 'steps_per_ms', 'obfunc', 'forall', 'tstop', 'delete', 'NetStim', 'fast_flush_list', 'peak_tolerance_charge_', 'show_winio', 'initnrn', 'cm', 'saveaudit', 'eventslow', 'strdef', 'SectionList', 'cvode_active', 'quit', 'parent_section', 'xopen_broadcast_', 'nbetafkt_Kv1', 'TQueue', 'create', 'makeFamily', 'VBox', 'ropen', 'HBox', 'nrnpointmenu', 'CVode', 'setdata_leakK', 'na_ion', 'pt3dstyle', 'else', 'i_cap', 'xvarlabel', 'runStopIn', 'external', 'func', 'Impedance', 'ShapeBrowser', 'nao0_na_ion', 'argtype', 'h1_Kv1', 'case', 'tanh', 'MechanismStandard', 'e_fastpas', 'eps_IntFire4', 'nalphafkt_Kv1', 'while', 'mapped_nrnmainmenu_', 'cvode_simgraph', 'cvode_local', 'ntau_Kv1', 'ifsec', 'machine_name', 'k_ion', 'peak_time_charge_', 'print_session', 'ik', 'fclamp', 'c1_nax', 'if', 'na_ch_after_peak_charge_', 'pas', 'a2_1_nax', 'IClamp', 'secondorder', 'sqrt', 'nrn_mallinfo', 'tempobj', 'vext', 'units', 'temp_nax', 'vtrap_hh', 'PlotShape', 'setSpineArea', 'charge_', 'gna_hh', 'NetCon', 'sred', 'xradiobutton', 'VClamp', 'AlphaSynapse', 'nrn_feenableexcept', 'nstep_steprun', 'nrnallpointmenu', 'save_session', 'h2inf_Kv1', 'xpvalue', 'gl_hh', 'xslider', 'ValueFieldEditor', 'i_membrane', 'solve', 'Kv1', 'fadvance', 'mtau_hh', 'newshapeplot', 'setcolor', 'Exp2Syn', 'ExecCommand', 'fstim', 'setdata_leakNa', 'h1alphafkt_Kv1', '_pysec', 'setdata_hh', 'hoc_pointer_', 'hoc_ac_', 'makePointBrowser', 'KSState', 'PointBrowser', 'fstimi', 'xopen', 'section_exists', 'stoppedrun', 'SectionRef', 'nrniv_bind_thread', 'read', 'q10h_nax', 'step', 'stdinit', 'graph_menu_remove_most', 'vShift_inact_nax', 'insert', 'fsyng', 'na_ch_overl_charge_', 'fsyni', 'SectionBrowser', 'continue', 'itmp', 't', 'this_section', 'strcmp', 'Glyph', 'fclampv', 'stoprun', 'Section', 'qq_ih_cAMP', 'distmechmenu', 'movierunsave', 'continuerun', 'Ipulse1', 'tobj1', 'q10_nax', 'ShapeLocation', 'E', 'sprint', 'tstr', 'DEG', 'cnt', 'String', 'for', 'LinearMechanism', 'vShift_Kv1', 'x3d', 'bh_2_nax', 'proc', 'plt', 'nrnallsectionmenu', 'mcell_ran4_init', 'channel_builder', 'stop_praxis', 'Timer', 'object_pop', 'plotx', 'ploty', 'nrnmpi_init', 'PointProcessMark', 'retrieveaudit', 'i_membrane_', 'a1_0_nax', 'miscellaneousmenu', 'v_init', 'nrnmechmenu', 'forsec', 'alpha_ih_cAMP', 'Pointer', 'nrn_shape_changed_', 'newPlotS', 'makeMenuExplore', 'gna_nax', 'load_template', 'Graph', 'ninf_Kv1', 'newPlotI', 'flush_list', 'ExpSyn', 'SaveState', 'log', 'area', 'doEvents', 'set_ra', 'qq_ih', 'capacitance', 'name_declared', 'c2_nax', 'h3tau_Kv1', 'log10', 'globalra_panel', 'o_nax', 'a2_0_nax', 'm_hh', 'nrnversion', 'hh', 'overl_charge_', 'using_cvode_', 'wopen', 'ghdbar_ih_cAMP', 'j', 'h2_Kv1', 'objref', 'pointprocessesmenu', 'temp_string_', 'spine3d', 'sscanf', 'BBSaveState', 'make_mechanism', 'sectionname', 'int', 'g_fastpas', 'setdata_feature', 'load_java', 'ina', 'h2betafkt_Kv1', 'movierunpanel', 'nai', 'nao', 'getstr', 'nax', 'fclampi', 'ntau_hh', 'a1_1_nax', 'pt3dinsert', 'set_v_init', 'h1tau_Kv1', 'i3_nax', 'fastpas', 'load_proc', 'movierunbox', 'section_owner', 'allobjects', 'MechanismType', 'regraph', 'PatternStim', 'moviestep', 'initPlot']\n"
     ]
    }
   ],
   "source": [
    "print(h.__dict__.keys())"
   ]
  },
  {
   "cell_type": "code",
   "execution_count": 7,
   "metadata": {},
   "outputs": [
    {
     "data": {
      "text/plain": [
       "['b2_0_nax',\n",
       " 'rates_nax',\n",
       " 'a3_0_nax',\n",
       " 'maxrate_nax',\n",
       " 'bh_1_nax',\n",
       " 'gbar_nax',\n",
       " 'b2_1_nax',\n",
       " 'vShift_inact_local_nax',\n",
       " 'ah_0_nax',\n",
       " 'ah_2_nax',\n",
       " 'b3_1_nax',\n",
       " 'bh_0_nax',\n",
       " 'c3_nax',\n",
       " 'i1_nax',\n",
       " 'i2_nax',\n",
       " 'ah_1_nax',\n",
       " 'a3_1_nax',\n",
       " 'vShift_nax',\n",
       " 'b3_0_nax',\n",
       " 'b1_1_nax',\n",
       " 'i4_nax',\n",
       " 'setdata_nax',\n",
       " 'b1_0_nax',\n",
       " 'c1_nax',\n",
       " 'a2_1_nax',\n",
       " 'temp_nax',\n",
       " 'q10h_nax',\n",
       " 'vShift_inact_nax',\n",
       " 'q10_nax',\n",
       " 'bh_2_nax',\n",
       " 'a1_0_nax',\n",
       " 'gna_nax',\n",
       " 'c2_nax',\n",
       " 'o_nax',\n",
       " 'a2_0_nax',\n",
       " 'nax',\n",
       " 'a1_1_nax',\n",
       " 'i3_nax']"
      ]
     },
     "execution_count": 7,
     "metadata": {},
     "output_type": "execute_result"
    }
   ],
   "source": [
    "[key for key in h.__dict__.keys() if key.endswith('nax')]\n"
   ]
  },
  {
   "cell_type": "code",
   "execution_count": 8,
   "metadata": {},
   "outputs": [
    {
     "name": "stdout",
     "output_type": "stream",
     "text": [
      "14.0\n"
     ]
    }
   ],
   "source": [
    "h.vShift_nax = 14\n",
    "print(h.vShift_nax)"
   ]
  },
  {
   "cell_type": "code",
   "execution_count": 9,
   "metadata": {},
   "outputs": [
    {
     "ename": "TypeError",
     "evalue": "not assignable",
     "output_type": "error",
     "traceback": [
      "\u001b[0;31m---------------------------------------------------------------------------\u001b[0m",
      "\u001b[0;31mTypeError\u001b[0m                                 Traceback (most recent call last)",
      "\u001b[0;32m<ipython-input-9-0d0c133a7842>\u001b[0m in \u001b[0;36m<module>\u001b[0;34m()\u001b[0m\n\u001b[0;32m----> 1\u001b[0;31m \u001b[0mh\u001b[0m\u001b[0;34m.\u001b[0m\u001b[0mvShift_inact_local_nax\u001b[0m \u001b[0;34m=\u001b[0m \u001b[0;36m14\u001b[0m\u001b[0;34m\u001b[0m\u001b[0m\n\u001b[0m\u001b[1;32m      2\u001b[0m \u001b[0;32mprint\u001b[0m\u001b[0;34m(\u001b[0m\u001b[0msoma\u001b[0m\u001b[0;34m(\u001b[0m\u001b[0;36m0.5\u001b[0m\u001b[0;34m)\u001b[0m\u001b[0;34m.\u001b[0m\u001b[0mnax\u001b[0m\u001b[0;34m.\u001b[0m\u001b[0mvShift_inact_local_nax\u001b[0m\u001b[0;34m)\u001b[0m\u001b[0;34m\u001b[0m\u001b[0m\n",
      "\u001b[0;31mTypeError\u001b[0m: not assignable"
     ]
    }
   ],
   "source": [
    "h.vShift_inact_local_nax = 14\n",
    "print(soma(0.5).nax.vShift_inact_local_nax)\n"
   ]
  },
  {
   "cell_type": "code",
   "execution_count": 10,
   "metadata": {},
   "outputs": [
    {
     "name": "stdout",
     "output_type": "stream",
     "text": [
      "33.0\n"
     ]
    }
   ],
   "source": [
    "soma(0.5).nax.vShift_inact_local = 33\n",
    "print(soma(0.5).nax.vShift_inact_local)"
   ]
  },
  {
   "cell_type": "code",
   "execution_count": 11,
   "metadata": {},
   "outputs": [
    {
     "name": "stdout",
     "output_type": "stream",
     "text": [
      "['nseg', 'L', 'rallbranch', 'Ra']\n",
      "['na_ion', 'diam', 'nax', 'cm', 'v']\n",
      "['na_ion', 'diam', 'nax', 'cm', 'v']\n"
     ]
    }
   ],
   "source": [
    "print(soma.__dict__.keys())\n",
    "print(soma().__dict__.keys())\n",
    "print(soma(0.5).__dict__.keys())"
   ]
  },
  {
   "cell_type": "code",
   "execution_count": null,
   "metadata": {},
   "outputs": [],
   "source": [
    "soma.name()"
   ]
  },
  {
   "cell_type": "code",
   "execution_count": null,
   "metadata": {},
   "outputs": [],
   "source": [
    "import inspect\n",
    "inspect.getmembers(soma)"
   ]
  },
  {
   "cell_type": "code",
   "execution_count": null,
   "metadata": {},
   "outputs": [],
   "source": [
    "soma._set_name( \"soma2\" )"
   ]
  },
  {
   "cell_type": "code",
   "execution_count": null,
   "metadata": {},
   "outputs": [],
   "source": []
  },
  {
   "cell_type": "code",
   "execution_count": null,
   "metadata": {},
   "outputs": [],
   "source": []
  }
 ],
 "metadata": {
  "kernelspec": {
   "display_name": "Python 2",
   "language": "python",
   "name": "python2"
  },
  "language_info": {
   "codemirror_mode": {
    "name": "ipython",
    "version": 2
   },
   "file_extension": ".py",
   "mimetype": "text/x-python",
   "name": "python",
   "nbconvert_exporter": "python",
   "pygments_lexer": "ipython2",
   "version": "2.7.16"
  }
 },
 "nbformat": 4,
 "nbformat_minor": 2
}
